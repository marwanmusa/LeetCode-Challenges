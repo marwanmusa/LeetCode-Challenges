{
 "cells": [
  {
   "cell_type": "markdown",
   "metadata": {},
   "source": [
    "# Encoding"
   ]
  },
  {
   "cell_type": "code",
   "execution_count": 1,
   "metadata": {},
   "outputs": [
    {
     "data": {
      "text/plain": [
       "'crypto{ASCII_pr1nt4bl3}'"
      ]
     },
     "execution_count": 1,
     "metadata": {},
     "output_type": "execute_result"
    }
   ],
   "source": [
    "# ASCII\n",
    "arr = [99, 114, 121, 112, 116, 111, 123, 65, 83, 67, 73, 73, 95, 112, 114, 49, 110, 116, 52, 98, 108, 51, 125]\n",
    "\"\".join([chr(x) for x in arr])"
   ]
  },
  {
   "cell_type": "code",
   "execution_count": 1,
   "metadata": {},
   "outputs": [
    {
     "data": {
      "text/plain": [
       "b'crypto{You_will_be_working_with_hex_strings_a_lot}'"
      ]
     },
     "execution_count": 1,
     "metadata": {},
     "output_type": "execute_result"
    }
   ],
   "source": [
    "# HEX\n",
    "bytes.fromhex(\"63727970746f7b596f755f77696c6c5f62655f776f726b696e675f776974685f6865785f737472696e67735f615f6c6f747d\")"
   ]
  },
  {
   "cell_type": "code",
   "execution_count": 8,
   "metadata": {},
   "outputs": [
    {
     "data": {
      "text/plain": [
       "b'crypto/Base+64+Encoding+is+Web+Safe/'"
      ]
     },
     "execution_count": 8,
     "metadata": {},
     "output_type": "execute_result"
    }
   ],
   "source": [
    "# Base64\n",
    "import base64\n",
    "res = base64.b64encode(bytes.fromhex(\"72bca9b68fc16ac7beeb8f849dca1d8a783e8acf9679bf9269f7bf\"))\n",
    "res"
   ]
  },
  {
   "cell_type": "code",
   "execution_count": 16,
   "metadata": {},
   "outputs": [
    {
     "data": {
      "text/plain": [
       "b'crypto{3nc0d1n6_4ll_7h3_w4y_d0wn}'"
      ]
     },
     "execution_count": 16,
     "metadata": {},
     "output_type": "execute_result"
    }
   ],
   "source": [
    "# Bytes and Big Integers\n",
    "from Crypto.Util.number import *\n",
    "\n",
    "\n",
    "long_to_bytes(11515195063862318899931685488813747395775516287289682636499965282714637259206269)"
   ]
  },
  {
   "cell_type": "code",
   "execution_count": null,
   "metadata": {},
   "outputs": [],
   "source": [
    "# Encoding Challenge\n",
    "\n",
    "from pwn import *\n",
    "import json\n",
    "import base64\n",
    "import binascii\n",
    "import codecs\n",
    "import sys\n",
    "\n",
    "def decode(t, data):\n",
    "    if t == 'base64':\n",
    "        return base64.b64decode(data).decode('utf-8')\n",
    "    elif t == 'hex':\n",
    "        return binascii.unhexlify(data).decode('utf-8')\n",
    "    elif t == 'bigint':\n",
    "        return binascii.unhexlify(data.replace('0x', '')).decode('utf-8')\n",
    "    elif t == 'rot13':\n",
    "        return codecs.encode(data, 'rot_13')\n",
    "    elif t == 'utf-8':\n",
    "        s = \"\"\n",
    "        for c in data:\n",
    "            s += chr(c)\n",
    "        return s\n",
    "\n",
    "\n",
    "r = remote('socket.cryptohack.org', 13377, level = 'debug')\n",
    "\n",
    "def json_recv():\n",
    "    line = r.recvline()\n",
    "    return json.loads(line.decode())\n",
    "\n",
    "def json_send(hsh):\n",
    "    request = json.dumps(hsh).encode()\n",
    "    r.sendline(request)\n",
    "\n",
    "while True:\n",
    "\n",
    "    received = json_recv()\n",
    "\n",
    "    if \"flag\" in received:\n",
    "        print(\"FLAG: %s\" % received[\"flag\"])\n",
    "        sys.exit(0)\n",
    "\n",
    "    to_send = {\n",
    "        \"decoded\": decode(received[\"type\"], received[\"encoded\"])\n",
    "    }\n",
    "    json_send(to_send)"
   ]
  },
  {
   "cell_type": "markdown",
   "metadata": {},
   "source": [
    "# XOR"
   ]
  },
  {
   "cell_type": "code",
   "execution_count": 6,
   "metadata": {},
   "outputs": [
    {
     "name": "stdout",
     "output_type": "stream",
     "text": [
      "aloha\n"
     ]
    },
    {
     "name": "stderr",
     "output_type": "stream",
     "text": [
      "g:\\MyFile\\LeetCode-Challenges\\venv\\Lib\\site-packages\\pwnlib\\util\\fiddling.py:335: BytesWarning: Text is not bytes; assuming ASCII, no guarantees. See https://docs.pwntools.com/#bytes\n",
      "  strs = [packing.flat(s, word_size = 8, sign = False, endianness = 'little') for s in args]\n"
     ]
    },
    {
     "data": {
      "text/plain": [
       "b'\\x00\\x00\\x00\\x00\\x00'"
      ]
     },
     "execution_count": 6,
     "metadata": {},
     "output_type": "execute_result"
    }
   ],
   "source": [
    "# XOR Starter\n",
    "# Implement the XOR with my-own function\n",
    "\n",
    "def xor_int_with_string(n: int, s: str) -> str:\n",
    "    # XOR each character's Unicode value with the integer n and convert back to a character\n",
    "    xor_result = ''.join(chr(ord(c) ^ n) for c in s)\n",
    "    return xor_result\n",
    "\n",
    "n = 13\n",
    "s = 'label'\n",
    "print(xor_int_with_string(n, s))\n",
    "\n",
    "# XOR with pwntools\n",
    "import pwn\n",
    "\n",
    "pwn.xor(s, s)"
   ]
  },
  {
   "cell_type": "code",
   "execution_count": 24,
   "metadata": {},
   "outputs": [
    {
     "data": {
      "text/plain": [
       "'crypto{x0r_i5_ass0c1at1v3}'"
      ]
     },
     "execution_count": 24,
     "metadata": {},
     "output_type": "execute_result"
    }
   ],
   "source": [
    "# XOR Properties\n",
    "# 1. XOR is commutative: a ^ b = b ^ a\n",
    "# 2. XOR is associative: (a ^ b) ^ c = a ^ (b ^ c)\n",
    "# 3. XOR is idempotent: a ^ a = 0\n",
    "# 4. XOR is self-inverse: a ^ a = 0, a ^ 0\n",
    "decode = lambda x: base64.b64encode(bytes.fromhex(x))\n",
    "\n",
    "KEY1 = bytes.fromhex(\"a6c8b6733c9b22de7bc0253266a3867df55acde8635e19c73313\")\n",
    "\n",
    "KEY2 = pwn.xor(bytes.fromhex(\"37dcb292030faa90d07eec17e3b1c6d8daf94c35d4c9191a5e1e\"), KEY1)\n",
    "KEY3 = pwn.xor(bytes.fromhex(\"c1545756687e7573db23aa1c3452a098b71a7fbf0fddddde5fc1\"), KEY2)\n",
    "FLAG = pwn.xor(bytes.fromhex(\"04ee9855208a2cd59091d04767ae47963170d1660df7f56f5faf\"), KEY3, KEY2, KEY1)\n",
    "FLAG.decode()"
   ]
  },
  {
   "cell_type": "code",
   "execution_count": null,
   "metadata": {},
   "outputs": [],
   "source": [
    "# Favourite byte\n",
    "byte = bytes.fromhex(\"73626960647f6b206821204f21254f7d694f7624662065622127234f726927756d\")\n",
    "for i in range(256):\n",
    "    res = pwn.xor(byte, i).decode(\"latin-1\") # see the readable one\n",
    "    print(i, res)"
   ]
  },
  {
   "cell_type": "code",
   "execution_count": 131,
   "metadata": {},
   "outputs": [
    {
     "data": {
      "text/plain": [
       "b'crypto{1f_y0u_Kn0w_En0uGH_y0u_Kn0w_1t_4ll}'"
      ]
     },
     "execution_count": 131,
     "metadata": {},
     "output_type": "execute_result"
    }
   ],
   "source": [
    "# You either know, XOR you don't\n",
    "byte = bytes.fromhex(\"0e0b213f26041e480b26217f27342e175d0e070a3c5b103e2526217f27342e175d0e077e263451150104\")\n",
    "\n",
    "pwn.xor(byte, \"myXORkey\")"
   ]
  }
 ],
 "metadata": {
  "kernelspec": {
   "display_name": "venv",
   "language": "python",
   "name": "python3"
  },
  "language_info": {
   "codemirror_mode": {
    "name": "ipython",
    "version": 3
   },
   "file_extension": ".py",
   "mimetype": "text/x-python",
   "name": "python",
   "nbconvert_exporter": "python",
   "pygments_lexer": "ipython3",
   "version": "3.12.0"
  }
 },
 "nbformat": 4,
 "nbformat_minor": 2
}
